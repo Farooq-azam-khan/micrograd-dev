{
 "cells": [
  {
   "cell_type": "code",
   "execution_count": null,
   "metadata": {},
   "outputs": [],
   "source": [
    "from main import Value"
   ]
  },
  {
   "cell_type": "code",
   "execution_count": null,
   "metadata": {},
   "outputs": [],
   "source": [
    "a = 2.0\n",
    "b = -3.0\n",
    "c = 10.0 \n",
    "fn = lambda a,b,c: a*b+c \n",
    "print(fn(a,b,c)) "
   ]
  },
  {
   "cell_type": "code",
   "execution_count": null,
   "metadata": {},
   "outputs": [],
   "source": [
    "# https://en.wikipedia.org/wiki/Derivative \n",
    "# df/da = (f(a+h)-f(a))/h for infinitessimally small h \n",
    "h = 0.0001 \n",
    "print('slope:', (fn(a+h,b,c) - fn(a,b,c)) / h)"
   ]
  },
  {
   "cell_type": "code",
   "execution_count": null,
   "metadata": {},
   "outputs": [],
   "source": [
    "a = Value(2.0, label='a')\n",
    "b = Value(-3.0, label='b')\n",
    "c = Value(10.0, label='c')\n",
    "d = fn(a,b,c); d.label = 'd'\n",
    "print(d)"
   ]
  },
  {
   "cell_type": "code",
   "execution_count": null,
   "metadata": {},
   "outputs": [],
   "source": [
    "d._op, d._prev"
   ]
  },
  {
   "cell_type": "code",
   "execution_count": null,
   "metadata": {},
   "outputs": [],
   "source": [
    "from helpers import trace, draw_dot"
   ]
  },
  {
   "cell_type": "code",
   "execution_count": null,
   "metadata": {},
   "outputs": [],
   "source": [
    "nodes, edges = trace(d)\n",
    "print(f'{len(nodes)=} {len(edges)=}')"
   ]
  },
  {
   "cell_type": "code",
   "execution_count": null,
   "metadata": {},
   "outputs": [],
   "source": []
  },
  {
   "cell_type": "code",
   "execution_count": null,
   "metadata": {},
   "outputs": [],
   "source": [
    "draw_dot(d)"
   ]
  },
  {
   "cell_type": "code",
   "execution_count": null,
   "metadata": {},
   "outputs": [],
   "source": [
    "a = Value(2.0, label='a')\n",
    "b = Value(-3.0, label='b')\n",
    "c = Value(10.0, label='c')\n",
    "d = fn(a,b,c); d.label = 'd'\n",
    "f = Value(-2.0, label='f')\n",
    "L = d*f; \n",
    "L.label = 'L'\n",
    "print(L)"
   ]
  },
  {
   "cell_type": "code",
   "execution_count": null,
   "metadata": {},
   "outputs": [],
   "source": [
    "draw_dot(L)"
   ]
  },
  {
   "cell_type": "code",
   "execution_count": null,
   "metadata": {},
   "outputs": [],
   "source": [
    "def forward_pass(a,b,c,d,f):\n",
    "    d = fn(a,b,c); d.label = 'd'\n",
    "    L = d*f; \n",
    "    L.label = 'L'\n",
    "    return L\n",
    "L = forward_pass(a,b,c,d,f)\n",
    "Ld = forward_pass(a, b, c, d+h, f)\n",
    "La = forward_pass(a+h, b, c, d, f)\n",
    "Lb = forward_pass(a, b+h, c, d, f)\n",
    "Lc = forward_pass(a, b, c+h, d, f)\n",
    "Lf = forward_pass(a, b, c, d, f+h)"
   ]
  },
  {
   "cell_type": "code",
   "execution_count": null,
   "metadata": {},
   "outputs": [],
   "source": [
    "dL_wrt_dx = lambda L2, L1: (L2 - L1) / h\n",
    "print(f'{dL_wrt_dx(L+h, L)=}')\n",
    "print(f'{dL_wrt_dx(Ld, L)=}')\n",
    "print(f'{dL_wrt_dx(Lf, L)=}')\n",
    "print(f'{dL_wrt_dx(La, L)=}')\n",
    "print(f'{dL_wrt_dx(Lb, L)=}')\n",
    "print(f'{dL_wrt_dx(Lc, L)=}')"
   ]
  },
  {
   "cell_type": "markdown",
   "metadata": {},
   "source": [
    "```\n",
    "dL/dL = ((L+h)-L) / h = 1 \n",
    "dL/dd = ((d+h)*f - d*f) / h = f \n",
    "dL/df = d \n",
    "\n",
    "dL/dc = dL/dd * dd/dc = f * d/dc (a*b+c) = f*1 = f = -2\n",
    "\n",
    "let e = a*b\n",
    "dL/de = dL/dd * dd/de = f * d/de (e+c) = f*1 = f = -2 \n",
    "\n",
    "dL/da = dL/dd * dd/de * de/da = f * 1 * d/da (a*b) = f*b = -2*-3 = 6\n",
    "dL/db  = f*a = -4 \n",
    "```"
   ]
  },
  {
   "cell_type": "code",
   "execution_count": null,
   "metadata": {},
   "outputs": [],
   "source": [
    "((d+h)*f - L)/h "
   ]
  },
  {
   "cell_type": "markdown",
   "metadata": {},
   "source": [
    "# MLP"
   ]
  },
  {
   "cell_type": "code",
   "execution_count": null,
   "metadata": {},
   "outputs": [],
   "source": [
    "import numpy as np \n",
    "import matplotlib.pyplot as plt\n",
    "\n",
    "xs = np.arange(-5,5, 0.2)\n",
    "ys = np.tanh(xs)\n",
    "plt.plot(xs, ys); plt.grid(); "
   ]
  },
  {
   "cell_type": "code",
   "execution_count": null,
   "metadata": {},
   "outputs": [],
   "source": [
    "x1 = Value(2.0, label='x1')\n",
    "x2 = Value(0.0, label='x2')\n",
    "\n",
    "w1 = Value(-3.0, label='w1')\n",
    "w2 = Value(1.0, label='w2')\n",
    "b = Value(6.8813735878195432, label='b')\n",
    "\n",
    "n  = x1*w1 + x2*w2  + b \n",
    "n.label = 'n'\n",
    "o = n.tanh()"
   ]
  },
  {
   "cell_type": "code",
   "execution_count": null,
   "metadata": {},
   "outputs": [],
   "source": [
    "draw_dot(o)"
   ]
  },
  {
   "cell_type": "code",
   "execution_count": null,
   "metadata": {},
   "outputs": [],
   "source": [
    "o.backward()"
   ]
  },
  {
   "cell_type": "code",
   "execution_count": 1,
   "metadata": {},
   "outputs": [
    {
     "data": {
      "text/plain": [
       "Value(0.0000E+00)"
      ]
     },
     "execution_count": 1,
     "metadata": {},
     "output_type": "execute_result"
    }
   ],
   "source": [
    "from main import Value \n",
    "from helpers import draw_dot\n",
    "\n",
    "2*Value(2)\n",
    "2+Value(2)\n",
    "Value(2)-2"
   ]
  },
  {
   "cell_type": "code",
   "execution_count": 2,
   "metadata": {},
   "outputs": [
    {
     "data": {
      "text/plain": [
       "Value(2.0000E+00)"
      ]
     },
     "execution_count": 2,
     "metadata": {},
     "output_type": "execute_result"
    }
   ],
   "source": [
    "2-Value(2)\n",
    "Value(4) / Value(2)"
   ]
  },
  {
   "cell_type": "code",
   "execution_count": 3,
   "metadata": {},
   "outputs": [
    {
     "data": {
      "text/plain": [
       "Value(2.0000E+00)"
      ]
     },
     "execution_count": 3,
     "metadata": {},
     "output_type": "execute_result"
    }
   ],
   "source": [
    "Value(4) / 2"
   ]
  },
  {
   "cell_type": "code",
   "execution_count": 4,
   "metadata": {},
   "outputs": [],
   "source": [
    "x = 4 / Value(2)\n"
   ]
  },
  {
   "cell_type": "code",
   "execution_count": 5,
   "metadata": {},
   "outputs": [
    {
     "data": {
      "image/svg+xml": [
       "<?xml version=\"1.0\" encoding=\"UTF-8\" standalone=\"no\"?>\n",
       "<!DOCTYPE svg PUBLIC \"-//W3C//DTD SVG 1.1//EN\"\n",
       " \"http://www.w3.org/Graphics/SVG/1.1/DTD/svg11.dtd\">\n",
       "<!-- Generated by graphviz version 2.43.0 (0)\n",
       " -->\n",
       "<!-- Title: %3 Pages: 1 -->\n",
       "<svg width=\"659pt\" height=\"166pt\"\n",
       " viewBox=\"0.00 0.00 659.19 166.00\" xmlns=\"http://www.w3.org/2000/svg\" xmlns:xlink=\"http://www.w3.org/1999/xlink\">\n",
       "<g id=\"graph0\" class=\"graph\" transform=\"scale(1 1) rotate(0) translate(4 162)\">\n",
       "<title>%3</title>\n",
       "<polygon fill=\"white\" stroke=\"transparent\" points=\"-4,4 -4,-162 655.19,-162 655.19,4 -4,4\"/>\n",
       "<!-- 137296711515728 -->\n",
       "<g id=\"node1\" class=\"node\">\n",
       "<title>137296711515728</title>\n",
       "<polygon fill=\"none\" stroke=\"black\" points=\"0,-88.5 0,-157.5 132,-157.5 132,-88.5 0,-88.5\"/>\n",
       "<text text-anchor=\"middle\" x=\"66\" y=\"-142.3\" font-family=\"Times,serif\" font-size=\"14.00\"> </text>\n",
       "<polyline fill=\"none\" stroke=\"black\" points=\"0,-134.5 132,-134.5 \"/>\n",
       "<text text-anchor=\"middle\" x=\"66\" y=\"-119.3\" font-family=\"Times,serif\" font-size=\"14.00\">data=2.00E+00</text>\n",
       "<polyline fill=\"none\" stroke=\"black\" points=\"0,-111.5 132,-111.5 \"/>\n",
       "<text text-anchor=\"middle\" x=\"66\" y=\"-96.3\" font-family=\"Times,serif\" font-size=\"14.00\">grad=0.0000</text>\n",
       "</g>\n",
       "<!-- 137296711512272**&#45;1 -->\n",
       "<g id=\"node5\" class=\"node\">\n",
       "<title>137296711512272**&#45;1</title>\n",
       "<ellipse fill=\"none\" stroke=\"black\" cx=\"196.6\" cy=\"-123\" rx=\"28.7\" ry=\"18\"/>\n",
       "<text text-anchor=\"middle\" x=\"196.6\" y=\"-119.3\" font-family=\"Times,serif\" font-size=\"14.00\">**&#45;1</text>\n",
       "</g>\n",
       "<!-- 137296711515728&#45;&gt;137296711512272**&#45;1 -->\n",
       "<g id=\"edge5\" class=\"edge\">\n",
       "<title>137296711515728&#45;&gt;137296711512272**&#45;1</title>\n",
       "<path fill=\"none\" stroke=\"black\" d=\"M132.05,-123C140.8,-123 149.53,-123 157.6,-123\"/>\n",
       "<polygon fill=\"black\" stroke=\"black\" points=\"157.76,-126.5 167.76,-123 157.76,-119.5 157.76,-126.5\"/>\n",
       "</g>\n",
       "<!-- 137296711516048 -->\n",
       "<g id=\"node2\" class=\"node\">\n",
       "<title>137296711516048</title>\n",
       "<polygon fill=\"none\" stroke=\"black\" points=\"519.19,-44.5 519.19,-113.5 651.19,-113.5 651.19,-44.5 519.19,-44.5\"/>\n",
       "<text text-anchor=\"middle\" x=\"585.19\" y=\"-98.3\" font-family=\"Times,serif\" font-size=\"14.00\">(* **&#45;1 )</text>\n",
       "<polyline fill=\"none\" stroke=\"black\" points=\"519.19,-90.5 651.19,-90.5 \"/>\n",
       "<text text-anchor=\"middle\" x=\"585.19\" y=\"-75.3\" font-family=\"Times,serif\" font-size=\"14.00\">data=2.00E+00</text>\n",
       "<polyline fill=\"none\" stroke=\"black\" points=\"519.19,-67.5 651.19,-67.5 \"/>\n",
       "<text text-anchor=\"middle\" x=\"585.19\" y=\"-52.3\" font-family=\"Times,serif\" font-size=\"14.00\">grad=0.0000</text>\n",
       "</g>\n",
       "<!-- 137296711516048* -->\n",
       "<g id=\"node3\" class=\"node\">\n",
       "<title>137296711516048*</title>\n",
       "<ellipse fill=\"none\" stroke=\"black\" cx=\"456.19\" cy=\"-79\" rx=\"27\" ry=\"18\"/>\n",
       "<text text-anchor=\"middle\" x=\"456.19\" y=\"-75.3\" font-family=\"Times,serif\" font-size=\"14.00\">*</text>\n",
       "</g>\n",
       "<!-- 137296711516048*&#45;&gt;137296711516048 -->\n",
       "<g id=\"edge1\" class=\"edge\">\n",
       "<title>137296711516048*&#45;&gt;137296711516048</title>\n",
       "<path fill=\"none\" stroke=\"black\" d=\"M483.2,-79C490.93,-79 499.81,-79 509.03,-79\"/>\n",
       "<polygon fill=\"black\" stroke=\"black\" points=\"509.13,-82.5 519.13,-79 509.13,-75.5 509.13,-82.5\"/>\n",
       "</g>\n",
       "<!-- 137296711512272 -->\n",
       "<g id=\"node4\" class=\"node\">\n",
       "<title>137296711512272</title>\n",
       "<polygon fill=\"none\" stroke=\"black\" points=\"264.69,-88.5 264.69,-157.5 389.69,-157.5 389.69,-88.5 264.69,-88.5\"/>\n",
       "<text text-anchor=\"middle\" x=\"327.19\" y=\"-142.3\" font-family=\"Times,serif\" font-size=\"14.00\">**&#45;1</text>\n",
       "<polyline fill=\"none\" stroke=\"black\" points=\"264.69,-134.5 389.69,-134.5 \"/>\n",
       "<text text-anchor=\"middle\" x=\"327.19\" y=\"-119.3\" font-family=\"Times,serif\" font-size=\"14.00\">data=5.00E&#45;01</text>\n",
       "<polyline fill=\"none\" stroke=\"black\" points=\"264.69,-111.5 389.69,-111.5 \"/>\n",
       "<text text-anchor=\"middle\" x=\"327.19\" y=\"-96.3\" font-family=\"Times,serif\" font-size=\"14.00\">grad=0.0000</text>\n",
       "</g>\n",
       "<!-- 137296711512272&#45;&gt;137296711516048* -->\n",
       "<g id=\"edge3\" class=\"edge\">\n",
       "<title>137296711512272&#45;&gt;137296711516048*</title>\n",
       "<path fill=\"none\" stroke=\"black\" d=\"M389.83,-101.64C401.12,-97.74 412.48,-93.8 422.49,-90.33\"/>\n",
       "<polygon fill=\"black\" stroke=\"black\" points=\"423.69,-93.62 432,-87.04 421.4,-87 423.69,-93.62\"/>\n",
       "</g>\n",
       "<!-- 137296711512272**&#45;1&#45;&gt;137296711512272 -->\n",
       "<g id=\"edge2\" class=\"edge\">\n",
       "<title>137296711512272**&#45;1&#45;&gt;137296711512272</title>\n",
       "<path fill=\"none\" stroke=\"black\" d=\"M225.5,-123C234.14,-123 244.09,-123 254.3,-123\"/>\n",
       "<polygon fill=\"black\" stroke=\"black\" points=\"254.56,-126.5 264.56,-123 254.56,-119.5 254.56,-126.5\"/>\n",
       "</g>\n",
       "<!-- 137296711515920 -->\n",
       "<g id=\"node6\" class=\"node\">\n",
       "<title>137296711515920</title>\n",
       "<polygon fill=\"none\" stroke=\"black\" points=\"261.19,-0.5 261.19,-69.5 393.19,-69.5 393.19,-0.5 261.19,-0.5\"/>\n",
       "<text text-anchor=\"middle\" x=\"327.19\" y=\"-54.3\" font-family=\"Times,serif\" font-size=\"14.00\"> </text>\n",
       "<polyline fill=\"none\" stroke=\"black\" points=\"261.19,-46.5 393.19,-46.5 \"/>\n",
       "<text text-anchor=\"middle\" x=\"327.19\" y=\"-31.3\" font-family=\"Times,serif\" font-size=\"14.00\">data=4.00E+00</text>\n",
       "<polyline fill=\"none\" stroke=\"black\" points=\"261.19,-23.5 393.19,-23.5 \"/>\n",
       "<text text-anchor=\"middle\" x=\"327.19\" y=\"-8.3\" font-family=\"Times,serif\" font-size=\"14.00\">grad=0.0000</text>\n",
       "</g>\n",
       "<!-- 137296711515920&#45;&gt;137296711516048* -->\n",
       "<g id=\"edge4\" class=\"edge\">\n",
       "<title>137296711515920&#45;&gt;137296711516048*</title>\n",
       "<path fill=\"none\" stroke=\"black\" d=\"M393.56,-57.64C403.53,-61.1 413.45,-64.54 422.32,-67.61\"/>\n",
       "<polygon fill=\"black\" stroke=\"black\" points=\"421.25,-70.94 431.84,-70.91 423.54,-64.33 421.25,-70.94\"/>\n",
       "</g>\n",
       "</g>\n",
       "</svg>\n"
      ],
      "text/plain": [
       "<graphviz.graphs.Digraph at 0x7cdee1b88810>"
      ]
     },
     "execution_count": 5,
     "metadata": {},
     "output_type": "execute_result"
    }
   ],
   "source": [
    "draw_dot(x)"
   ]
  },
  {
   "cell_type": "code",
   "execution_count": null,
   "metadata": {},
   "outputs": [],
   "source": []
  }
 ],
 "metadata": {
  "kernelspec": {
   "display_name": "transformer",
   "language": "python",
   "name": "python3"
  },
  "language_info": {
   "codemirror_mode": {
    "name": "ipython",
    "version": 3
   },
   "file_extension": ".py",
   "mimetype": "text/x-python",
   "name": "python",
   "nbconvert_exporter": "python",
   "pygments_lexer": "ipython3",
   "version": "3.11.5"
  }
 },
 "nbformat": 4,
 "nbformat_minor": 2
}
